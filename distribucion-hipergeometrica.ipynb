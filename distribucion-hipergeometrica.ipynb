{
 "cells": [
  {
   "cell_type": "markdown",
   "id": "ac1a4a4e-0f9c-4aa2-ada8-0858664141de",
   "metadata": {},
   "source": [
    "# Distribución hipergeométrica"
   ]
  },
  {
   "cell_type": "code",
   "execution_count": null,
   "id": "393db60d-6358-42d7-b13d-56fad5d8e26a",
   "metadata": {},
   "outputs": [],
   "source": []
  }
 ],
 "metadata": {
  "kernelspec": {
   "display_name": "Python 3 (ipykernel)",
   "language": "python",
   "name": "python3"
  },
  "language_info": {
   "codemirror_mode": {
    "name": "ipython",
    "version": 3
   },
   "file_extension": ".py",
   "mimetype": "text/x-python",
   "name": "python",
   "nbconvert_exporter": "python",
   "pygments_lexer": "ipython3",
   "version": "3.10.9"
  }
 },
 "nbformat": 4,
 "nbformat_minor": 5
}
