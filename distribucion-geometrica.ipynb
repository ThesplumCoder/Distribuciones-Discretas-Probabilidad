{
 "cells": [
  {
   "cell_type": "markdown",
   "id": "dc39ee60-f011-468a-a634-0c413954bc74",
   "metadata": {},
   "source": [
    "# Distribución geométrica"
   ]
  },
  {
   "cell_type": "markdown",
   "id": "0361b774-24ec-4a54-a309-6e1a6b8cf6be",
   "metadata": {},
   "source": [
    "## Definición"
   ]
  },
  {
   "cell_type": "markdown",
   "id": "f55a68bb-6721-4d82-b3fd-1b92aa68fe06",
   "metadata": {},
   "source": [
    "Función masa de probabilidad:\n",
    "$$\n",
    "f(x)=(1-p)^{x-1}p\n",
    "$$\n",
    "Media:\n",
    "$$\n",
    "\\mu=E(X)=\\frac{1}{p}\n",
    "$$\n",
    "Varianza:\n",
    "$$\n",
    "\\sigma^2=V(X)=\\frac{1-p}{p^2}\n",
    "$$"
   ]
  },
  {
   "cell_type": "markdown",
   "id": "c1faa818-bd7a-4392-84fe-707067bcc438",
   "metadata": {},
   "source": [
    "## Implementación"
   ]
  },
  {
   "cell_type": "code",
   "execution_count": null,
   "id": "8ad280ed-6e7f-4630-9065-5235c42711e5",
   "metadata": {},
   "outputs": [],
   "source": [
    "def funcion_masa(x, p):\n",
    "    factor1 = pow(1 - p, x - 1)\n",
    "    probabilidad = factor1 * p\n",
    "    return probabilidad\n",
    "\n",
    "def media(p):\n",
    "    media = 1 / p\n",
    "    return media\n",
    "\n",
    "def varianza(p):\n",
    "    varianza = (1 - p) / pow(p, 2)\n",
    "    return varianza"
   ]
  },
  {
   "cell_type": "code",
   "execution_count": null,
   "id": "be99ffbb-5dc1-48c2-b0d5-582232de04a3",
   "metadata": {},
   "outputs": [],
   "source": [
    "p_exito = float(input('Probabilidad de éxito:'))\n",
    "ensayos = int(input('Ensayos hasta el primer éxito:'))"
   ]
  },
  {
   "cell_type": "code",
   "execution_count": null,
   "id": "1d576d69-5db3-42fa-95da-f105311d4dae",
   "metadata": {},
   "outputs": [],
   "source": [
    "probabilidad = funcion_masa(ensayos, p_exito)\n",
    "media = media(p_exito)\n",
    "varianza = varianza(p_exito)\n",
    "\n",
    "print(\n",
    "    'Probabilidad: %f\\n' % (probabilidad),\n",
    "    'Media: %f\\n' % (media),\n",
    "    'Varianza: %f\\n' % (varianza)\n",
    ")"
   ]
  }
 ],
 "metadata": {
  "kernelspec": {
   "display_name": "Python 3 (ipykernel)",
   "language": "python",
   "name": "python3"
  },
  "language_info": {
   "codemirror_mode": {
    "name": "ipython",
    "version": 3
   },
   "file_extension": ".py",
   "mimetype": "text/x-python",
   "name": "python",
   "nbconvert_exporter": "python",
   "pygments_lexer": "ipython3",
   "version": "3.10.9"
  }
 },
 "nbformat": 4,
 "nbformat_minor": 5
}
