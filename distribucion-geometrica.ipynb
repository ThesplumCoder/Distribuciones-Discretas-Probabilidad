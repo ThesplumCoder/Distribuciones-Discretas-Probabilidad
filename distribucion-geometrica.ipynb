{
 "cells": [
  {
   "cell_type": "markdown",
   "id": "dc39ee60-f011-468a-a634-0c413954bc74",
   "metadata": {},
   "source": [
    "# Distribución geométrica"
   ]
  },
  {
   "cell_type": "code",
   "execution_count": null,
   "id": "0d0d3f59-b781-4aa5-9441-1a0923cafc05",
   "metadata": {},
   "outputs": [],
   "source": []
  }
 ],
 "metadata": {
  "kernelspec": {
   "display_name": "Python 3 (ipykernel)",
   "language": "python",
   "name": "python3"
  },
  "language_info": {
   "codemirror_mode": {
    "name": "ipython",
    "version": 3
   },
   "file_extension": ".py",
   "mimetype": "text/x-python",
   "name": "python",
   "nbconvert_exporter": "python",
   "pygments_lexer": "ipython3",
   "version": "3.10.9"
  }
 },
 "nbformat": 4,
 "nbformat_minor": 5
}
