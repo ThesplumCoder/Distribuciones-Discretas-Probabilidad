{
 "cells": [
  {
   "cell_type": "markdown",
   "id": "e458b933-2325-43b3-89b9-294eb0f3930f",
   "metadata": {
    "tags": []
   },
   "source": [
    "# Distribución uniforme"
   ]
  },
  {
   "cell_type": "markdown",
   "id": "bc7728ba-22d1-481b-94b2-8add654c545c",
   "metadata": {
    "tags": []
   },
   "source": [
    "## Definición\n",
    "Función masa de probabilidad:\n",
    "$$\n",
    "f(x_i)=\\frac{1}{n}\n",
    "$$\n",
    "Si $a$ y $b$ son los extremos del rango, entonces la media es:\n",
    "$$\n",
    "\\mu=E(X)=\\frac{b+a}{2}\n",
    "$$\n",
    "Desviación estándar:\n",
    "$$\n",
    "\\sigma=\\sqrt{\\frac{(b-a+1)^2 - 1}{12}}\n",
    "$$"
   ]
  },
  {
   "cell_type": "markdown",
   "id": "9508f0d0-d0de-46f5-ba08-bdf8879b5ecb",
   "metadata": {},
   "source": [
    "## Implementación"
   ]
  },
  {
   "cell_type": "code",
   "execution_count": null,
   "id": "c55ac951-5ca0-4358-b431-59f87db5c2b2",
   "metadata": {},
   "outputs": [],
   "source": [
    "from math import sqrt\n",
    "cantidad_elementos = float(input(\"Cantidad de posibles valores:\"))\n",
    "extremo_inferior = float(input(\"Extremo inferior del rango:\"))\n",
    "extremo_superior = float(input(\"Extremo superior del rango:\"))"
   ]
  },
  {
   "cell_type": "code",
   "execution_count": null,
   "id": "748bb253-b543-4f02-b9ed-5abd2773f84e",
   "metadata": {},
   "outputs": [],
   "source": [
    "funcion_masa = 1 / cantidad_elementos\n",
    "media = (extremo_superior + extremo_inferior) / 2\n",
    "desviacion_est = sqrt((pow(extremo_superior - extremo_inferior + 1, 2) - 1) / 12)"
   ]
  },
  {
   "cell_type": "code",
   "execution_count": null,
   "id": "85f4afd3-2b8a-4f46-ba2a-1dba163c54dc",
   "metadata": {},
   "outputs": [],
   "source": [
    "print(\n",
    "    'Probabilidad para cualquier X: %f\\n' % (funcion_masa),\n",
    "    'Media: %f\\n' % (media),\n",
    "    'Desviación estándar: %f\\n' % (desviacion_est)\n",
    ")"
   ]
  }
 ],
 "metadata": {
  "kernelspec": {
   "display_name": "Python 3 (ipykernel)",
   "language": "python",
   "name": "python3"
  },
  "language_info": {
   "codemirror_mode": {
    "name": "ipython",
    "version": 3
   },
   "file_extension": ".py",
   "mimetype": "text/x-python",
   "name": "python",
   "nbconvert_exporter": "python",
   "pygments_lexer": "ipython3",
   "version": "3.10.9"
  }
 },
 "nbformat": 4,
 "nbformat_minor": 5
}
