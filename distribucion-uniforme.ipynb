{
 "cells": [
  {
   "cell_type": "markdown",
   "id": "e458b933-2325-43b3-89b9-294eb0f3930f",
   "metadata": {},
   "source": [
    "# Distribución uniforme\n",
    "Se utilizaron las siguiente ecuaciones:\n",
    "$$\n",
    "f_{(X=x)}=\\frac{1}{n}\n",
    "$$"
   ]
  },
  {
   "cell_type": "code",
   "execution_count": null,
   "id": "29f9d1b3-0d42-461e-a16c-eef4d6e92a63",
   "metadata": {},
   "outputs": [],
   "source": []
  }
 ],
 "metadata": {
  "kernelspec": {
   "display_name": "Python 3 (ipykernel)",
   "language": "python",
   "name": "python3"
  },
  "language_info": {
   "codemirror_mode": {
    "name": "ipython",
    "version": 3
   },
   "file_extension": ".py",
   "mimetype": "text/x-python",
   "name": "python",
   "nbconvert_exporter": "python",
   "pygments_lexer": "ipython3",
   "version": "3.10.9"
  }
 },
 "nbformat": 4,
 "nbformat_minor": 5
}
