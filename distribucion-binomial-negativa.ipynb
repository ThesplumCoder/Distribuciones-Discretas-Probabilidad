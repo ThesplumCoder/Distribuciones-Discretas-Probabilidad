{
 "cells": [
  {
   "cell_type": "markdown",
   "id": "bd109e3b-a000-40fd-a3ec-446f53cbfcab",
   "metadata": {},
   "source": [
    "# Distribución binomial negativa"
   ]
  },
  {
   "cell_type": "markdown",
   "id": "6f3f360f-aebe-439b-bb4b-727b7e134b09",
   "metadata": {},
   "source": [
    "## Definición"
   ]
  },
  {
   "cell_type": "markdown",
   "id": "36110d2b-ec3f-4144-af03-b46ee378655e",
   "metadata": {},
   "source": [
    "Función masa de probabilidad:\n",
    "$$\n",
    "f(x)=\\binom{x-1}{r-1}(1-p)^{x-r}p^r\n",
    "$$\n",
    "Media:\n",
    "$$\n",
    "\\mu=E(X)=\\frac{r}{p}\n",
    "$$\n",
    "Varianza:\n",
    "$$\n",
    "\\sigma^2=V(X)=\\frac{r(1-p)}{p^2}\n",
    "$$"
   ]
  },
  {
   "cell_type": "markdown",
   "id": "edb3ba26-17db-47e9-b084-85fad8dfca59",
   "metadata": {},
   "source": [
    "## Implementación"
   ]
  },
  {
   "cell_type": "code",
   "execution_count": null,
   "id": "3263628c-205e-4794-844c-a1defa6b1b1d",
   "metadata": {},
   "outputs": [],
   "source": [
    "import math"
   ]
  },
  {
   "cell_type": "code",
   "execution_count": null,
   "id": "2c5fe92a-cd43-429c-96a5-8e6f44b3d68f",
   "metadata": {},
   "outputs": [],
   "source": [
    "def combinatoria(n, r):\n",
    "    n_fact = math.factorial(n)\n",
    "    r_fact = math.factorial(r)\n",
    "    dif_fact = math.factorial(n - r)\n",
    "    combinatoria = n_fact / (r_fact * dif_fact)\n",
    "    return combinatoria\n",
    "\n",
    "def funcion_masa(p, r, x):\n",
    "    res_comb = combinatoria(x - 1, r - 1)\n",
    "    probabilidad = res_comb * pow(1 - p, x - r) * pow(p, r)\n",
    "    return probabilidad\n",
    "\n",
    "def media(p, r):\n",
    "    media = r / p\n",
    "    return media\n",
    "\n",
    "def varianza(p, r):\n",
    "    varianza = (r * (1 - p)) / pow(p, 2)\n",
    "    return varianza"
   ]
  },
  {
   "cell_type": "code",
   "execution_count": null,
   "id": "b4ae5787-2553-4b3e-857e-211dc41e25eb",
   "metadata": {},
   "outputs": [],
   "source": [
    "ensayos = int(input('Cantidad de ensayos:'))\n",
    "exitos = int(input('Cantidad de éxitos:'))\n",
    "p_exito = float(input('Probabilidad de éxito:'))"
   ]
  },
  {
   "cell_type": "code",
   "execution_count": null,
   "id": "78598b6c-11c5-4140-8989-1cf00b14aa53",
   "metadata": {},
   "outputs": [],
   "source": [
    "probabilidad = funcion_masa(p_exito, exitos, ensayos)\n",
    "media = media(p_exito, exitos)\n",
    "varianza = varianza(p_exito, exitos)\n",
    "\n",
    "print(\n",
    "    'Probabilidad de %d éxitos en %d ensayos: %f\\n' % (exitos, ensayos, probabilidad),\n",
    "    'Media: %f\\n' % (media),\n",
    "    'Varianza: %f\\n' % (varianza)\n",
    ")"
   ]
  }
 ],
 "metadata": {
  "kernelspec": {
   "display_name": "Python 3 (ipykernel)",
   "language": "python",
   "name": "python3"
  },
  "language_info": {
   "codemirror_mode": {
    "name": "ipython",
    "version": 3
   },
   "file_extension": ".py",
   "mimetype": "text/x-python",
   "name": "python",
   "nbconvert_exporter": "python",
   "pygments_lexer": "ipython3",
   "version": "3.10.9"
  }
 },
 "nbformat": 4,
 "nbformat_minor": 5
}
