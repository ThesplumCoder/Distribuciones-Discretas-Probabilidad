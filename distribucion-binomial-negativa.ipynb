{
 "cells": [
  {
   "cell_type": "markdown",
   "id": "bd109e3b-a000-40fd-a3ec-446f53cbfcab",
   "metadata": {},
   "source": [
    "# Distribución binomial negativa"
   ]
  },
  {
   "cell_type": "code",
   "execution_count": null,
   "id": "2c5fe92a-cd43-429c-96a5-8e6f44b3d68f",
   "metadata": {},
   "outputs": [],
   "source": []
  }
 ],
 "metadata": {
  "kernelspec": {
   "display_name": "Python 3 (ipykernel)",
   "language": "python",
   "name": "python3"
  },
  "language_info": {
   "codemirror_mode": {
    "name": "ipython",
    "version": 3
   },
   "file_extension": ".py",
   "mimetype": "text/x-python",
   "name": "python",
   "nbconvert_exporter": "python",
   "pygments_lexer": "ipython3",
   "version": "3.10.9"
  }
 },
 "nbformat": 4,
 "nbformat_minor": 5
}
