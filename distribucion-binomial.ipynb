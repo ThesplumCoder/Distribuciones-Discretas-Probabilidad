{
 "cells": [
  {
   "cell_type": "markdown",
   "id": "27adddf6-7b94-4eca-967e-f5e2afaca784",
   "metadata": {},
   "source": [
    "# Distribución binomial"
   ]
  },
  {
   "cell_type": "markdown",
   "id": "bbda8ab6-9c40-4df3-a547-81aeff3b4d8b",
   "metadata": {},
   "source": [
    "## Definición"
   ]
  },
  {
   "cell_type": "markdown",
   "id": "bfd3657e-caa6-4376-861f-ca9fa4f82d49",
   "metadata": {},
   "source": [
    "Función masa de probabilidad:\n",
    "$$\n",
    "f(x)=\\binom{n}{x}p^x(1-p)^{n-x}\n",
    "$$\n",
    "Media:\n",
    "$$\n",
    "\\mu=E(X)=np\n",
    "$$\n",
    "Varianza:\n",
    "$$\n",
    "\\sigma^2=V(X)=np(1-p)\n",
    "$$"
   ]
  },
  {
   "cell_type": "markdown",
   "id": "676b805b-c216-4766-bb06-95e26bcc36bd",
   "metadata": {},
   "source": [
    "## Implementación"
   ]
  },
  {
   "cell_type": "code",
   "execution_count": null,
   "id": "3574c25d-f12e-4b5a-9d01-09234d6a83eb",
   "metadata": {},
   "outputs": [],
   "source": [
    "import math"
   ]
  },
  {
   "cell_type": "code",
   "execution_count": null,
   "id": "0a7c231a-b6b3-4bb5-9b61-787d953a4a9e",
   "metadata": {},
   "outputs": [],
   "source": [
    "def combinatoria(n, x):\n",
    "    n_fact = math.factorial(n)\n",
    "    x_fact = math.factorial(x)\n",
    "    dif_fact = math.factorial(n - x)\n",
    "    combinatoria = n_fact / (x_fact * dif_fact)\n",
    "    return combinatoria\n",
    "\n",
    "def funcion_masa(n, p, x):\n",
    "    res_comb = combinatoria(n, x)\n",
    "    probabilidad  = res_comb * pow(p, x) * pow(1 - p, n - x)\n",
    "    return probabilidad\n",
    "\n",
    "def media(n, p):\n",
    "    media = n * p\n",
    "    return media\n",
    "\n",
    "def varianza(n, p):\n",
    "    varianza = n * p * (1 - p)\n",
    "    return varianza"
   ]
  },
  {
   "cell_type": "code",
   "execution_count": null,
   "id": "a341dc8c-eaee-4d61-a488-69fea1c674ef",
   "metadata": {},
   "outputs": [],
   "source": [
    "ensayos = int(input('Cantidad de ensayos:'))\n",
    "cantidad_exito = int(input('Cantidad de éxitos:'))\n",
    "p_exito = float(input('Probabilidad de éxito:'))"
   ]
  },
  {
   "cell_type": "code",
   "execution_count": null,
   "id": "378d0ea1-057d-4e99-8b90-180beef2d237",
   "metadata": {},
   "outputs": [],
   "source": [
    "probabilidad = funcion_masa(ensayos, p_exito, cantidad_exito)\n",
    "media = media(ensayos, p_exito)\n",
    "varianza = varianza(ensayos, p_exito)\n",
    "\n",
    "print(\n",
    "    'Probabilidad de %d éxitos: %f\\n' % (cantidad_exito, probabilidad),\n",
    "    'Media: %f\\n' % (media),\n",
    "    'Varianza: %f\\n' % (varianza)\n",
    ")"
   ]
  }
 ],
 "metadata": {
  "kernelspec": {
   "display_name": "Python 3 (ipykernel)",
   "language": "python",
   "name": "python3"
  },
  "language_info": {
   "codemirror_mode": {
    "name": "ipython",
    "version": 3
   },
   "file_extension": ".py",
   "mimetype": "text/x-python",
   "name": "python",
   "nbconvert_exporter": "python",
   "pygments_lexer": "ipython3",
   "version": "3.10.9"
  }
 },
 "nbformat": 4,
 "nbformat_minor": 5
}
